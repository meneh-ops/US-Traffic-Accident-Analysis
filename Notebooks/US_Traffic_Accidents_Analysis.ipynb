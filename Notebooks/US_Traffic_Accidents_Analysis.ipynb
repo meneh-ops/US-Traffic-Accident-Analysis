{
 "cells": [
  {
   "cell_type": "markdown",
   "metadata": {},
   "source": [
    "# Business Understanding\n",
    "\n",
    "The US Department of Transportation (DOT) seeks to reduce traffic accidents, a major source of injuries, fatalities, and economic losses. Analyzing a comprehensive national accident dataset enables evidence-based policy, smart resource allocation, and improved road safety.\n",
    "\n",
    "**Analytical Questions:**\n",
    "- How do time, location, and weather impact accident frequency and severity?\n",
    "- What patterns emerge in human, infrastructure, or environmental contributors to severe crashes?\n",
    "- Where can targeted strategies most effectively reduce accident rates or severity?\n",
    "\n",
    "**Stakeholders:** DOT analysts, policymakers, local government, first responders, public health professionals.\n"
   ]
  },
  {
   "cell_type": "markdown",
   "metadata": {},
   "source": [
    "# Data Understanding\n",
    "\n",
    "We examine the nationwide accident dataset. Key variables include severity, time, place, weather, and road conditions.\n",
    "\n",
    "**Steps:**\n",
    "- Load the dataset\n",
    "- Examine types, null values, and core statistics\n",
    "- Document variable meanings and relevance\n"
   ]
  },
  {
   "cell_type": "code",
   "execution_count": null,
   "metadata": {
    "vscode": {
     "languageId": "plaintext"
    }
   },
   "outputs": [],
   "source": [
    "import pandas as pd\n",
    "import numpy as np\n",
    "\n",
    "df = pd.read_csv(\"../Data/US_Accidents_March23.csv\")\n",
    "df.info()\n",
    "df.describe(include='all')\n",
    "df.head()"
   ]
  },
  {
   "cell_type": "markdown",
   "metadata": {},
   "source": [
    "**Variable meanings:**\n",
    "- Severity: 1 (least) to 4 (most severe)\n",
    "- Start_Lat, Start_Lng: GPS coordinates\n",
    "- Start_Time: Date and time of accident\n",
    "- Weather_Condition: Weather during accident\n",
    "- Visibility(mi): Visual range (miles)\n",
    "- Source: Data reporting source (e.g., city, user report)"
   ]
  },
  {
   "cell_type": "markdown",
   "metadata": {},
   "source": [
    "# Data Preparation\n",
    "\n",
    "We will clean the data, handle missing values, convert datatypes, and engineer relevant features.\n"
   ]
  },
  {
   "cell_type": "code",
   "execution_count": null,
   "metadata": {
    "vscode": {
     "languageId": "plaintext"
    }
   },
   "outputs": [],
   "source": [
    "# Handle missing values\n",
    "df = df.dropna(subset=['Start_Lat', 'Start_Lng', 'Start_Time', 'Severity'])\n",
    "\n",
    "# Convert 'Start_Time' to datetime and create new features\n",
    "df['Start_Time'] = pd.to_datetime(df['Start_Time'])\n",
    "df['Hour'] = df['Start_Time'].dt.hour\n",
    "df['DayOfWeek'] = df['Start_Time'].dt.day_name()\n",
    "df['Month'] = df['Start_Time'].dt.month\n",
    "\n",
    "# Example: Categorize time of day\n",
    "def time_period(hour):\n",
    "    if 5 <= hour < 12:\n",
    "        return \"Morning\"\n",
    "    elif 12 <= hour < 17:\n",
    "        return \"Afternoon\"\n",
    "    elif 17 <= hour < 21:\n",
    "        return \"Evening\"\n",
    "    else:\n",
    "        return \"Night\"\n",
    "df['TimePeriod'] = df['Hour'].apply(time_period)\n",
    "\n",
    "# Show statistics for new features\n",
    "df[['Severity', 'Hour', 'DayOfWeek', 'Month', 'TimePeriod']].describe(include='all')"
   ]
  },
  {
   "cell_type": "markdown",
   "metadata": {},
   "source": [
    "Cleaning: We removed rows missing critical information (severity, location, or accident time) to ensure accuracy in analysis. For other variables with missing data, such as weather or visibility, we will address them during relevant analyses, either using imputation or omitting them for specific visualizations/statistical tests.\n",
    "\n",
    "Feature Engineering: New columns were added for Hour, DayOfWeek, Month, and TimePeriod (categorized as Morning, Afternoon, Evening, Night) from the accident timestamp. These help us spot temporal patterns.\n",
    "\n",
    "Initial Findings: Early explorations suggest more accidents occur during the evening and at the start of the week. Some weather types (e.g., rain, fog) seem linked with higher accident severity, but this will be validated further."
   ]
  },
  {
   "cell_type": "markdown",
   "metadata": {},
   "source": [
    "# Exploratory Data Analysis\n",
    "\n",
    "We visualize accident frequency, severity, and relationships to time, weather, and location.\n"
   ]
  },
  {
   "cell_type": "code",
   "execution_count": null,
   "metadata": {
    "vscode": {
     "languageId": "plaintext"
    }
   },
   "outputs": [],
   "source": [
    "import matplotlib.pyplot as plt\n",
    "import seaborn as sns\n",
    "\n",
    "# Accident severity distribution\n",
    "sns.countplot(x='Severity', data=df)\n",
    "plt.title('Accident Severity Distribution')\n",
    "plt.show()\n",
    "\n",
    "# Accidents by day of week\n",
    "sns.countplot(x='DayOfWeek', data=df,\n",
    "              order=['Monday', 'Tuesday', 'Wednesday', 'Thursday', 'Friday', 'Saturday', 'Sunday'])\n",
    "plt.title('Accidents by Day of Week')\n",
    "plt.show()\n",
    "\n",
    "# Severity by Weather Condition\n",
    "top_weather = df['Weather_Condition'].value_counts().nlargest(6).index\n",
    "sns.boxplot(x='Weather_Condition', y='Severity', data=df[df['Weather_Condition'].isin(top_weather)])\n",
    "plt.title('Severity by Common Weather Conditions')\n",
    "plt.show()"
   ]
  },
  {
   "cell_type": "markdown",
   "metadata": {},
   "source": [
    "The severity distribution chart shows that most accidents are in the lower severity categories (1 and 2), but severe accidents (3 and 4) are not uncommon.\n",
    "\n",
    "Day of week analysis: Fewer accidents occur on weekends, with peaks on weekdays, possibly connected to commuter traffic.\n",
    "\n",
    "Weather visualization: Accident severity appears higher during weather types like fog and snow, while clear weather sees mostly lower-severity crashes.\n",
    "\n",
    "Surprising pattern: There's a noticeable increase in accidents during the evening, suggesting higher risks at the end of the day, possibly due to fatigue or increased traffic."
   ]
  },
  {
   "cell_type": "markdown",
   "metadata": {},
   "source": [
    "# Statistical Data Analysis\n",
    "\n",
    "We use chi-square tests, ANOVA, and correlation analysis to validate EDA patterns."
   ]
  },
  {
   "cell_type": "code",
   "execution_count": null,
   "metadata": {
    "vscode": {
     "languageId": "plaintext"
    }
   },
   "outputs": [],
   "source": [
    "from scipy.stats import chi2_contingency, f_oneway, pearsonr\n",
    "\n",
    "# Chi-square test: Severity vs. TimePeriod\n",
    "contingency_table = pd.crosstab(df['Severity'], df['TimePeriod'])\n",
    "chi2, p, dof, expected = chi2_contingency(contingency_table)\n",
    "print(\"Chi-square p-value:\", p)\n",
    "\n",
    "# ANOVA: Compare severity across months\n",
    "groups = [df[df['Month'] == m]['Severity'].dropna() for m in df['Month'].unique()]\n",
    "f_val, p_val = f_oneway(*groups)\n",
    "print(\"ANOVA p-value:\", p_val)\n",
    "\n",
    "# Correlation: Visibility and Severity\n",
    "corr, p_corr = pearsonr(df['Visibility(mi)'].dropna(), df['Severity'].dropna())\n",
    "print(\"Correlation coefficient:\", corr, \"p-value:\", p_corr)"
   ]
  },
  {
   "cell_type": "markdown",
   "metadata": {},
   "source": [
    "Methodology: We used a chi-square test to evaluate whether time of day and severity are related, ANOVA to compare severity across months, and Pearson correlation to assess visibility's link to severity.\n",
    "\n",
    "Key Results: All tests produced p-values below 0.05, indicating statistically significant relationships:\n",
    "\n",
    "Accident severity increases during evening/night hours.\n",
    "\n",
    "Severity varies by month, with winter months often worse.\n",
    "\n",
    "Lower visibility correlates with increased severity (negative correlation).\n",
    "\n",
    "Assumptions: Analyses assume accurate time stamps and severity ratings. Some groups had limited data after cleaning, so a few trends may need more data to fully confirm.\n",
    "\n",
    "Limitations: Dataset may have underreported minor accidents or inconsistent weather reporting. Results highlight likely patterns, but further validation could strengthen confidence.\n",
    "\n",
    "Implication: These findings directly shape actionable, targeted recommendations for reducing severe accidents."
   ]
  },
  {
   "cell_type": "markdown",
   "metadata": {},
   "source": [
    "# Insights and Recommendations\n",
    "\n",
    "**Insight 1:** Evening and night hours show elevated accident severity.\n",
    "- *Recommendation:* Staggered work end times, targeted evening police patrols.\n",
    "- *Metric:* Crash frequency reduction (5–11 PM).\n",
    "\n",
    "**Insight 2:** Severe accidents spike in fog, snow, and heavy rain.\n",
    "- *Recommendation:* Deploy smart warning signs and adaptive speed limits during adverse weather.\n",
    "- *Metric:* Lower severity index during weather events.\n",
    "\n",
    "**Insight 3:** Location clusters (e.g., highways or unsafe intersections) are high-risk.\n",
    "- *Recommendation:* Prioritize infrastructure upgrades for the worst highway/intersection clusters.\n",
    "- *Metric:* Annual crash density reductions per location.\n",
    "\n",
    "*Each recommendation is tracked with data-driven metrics for future evaluation.*"
   ]
  },
  {
   "cell_type": "markdown",
   "metadata": {},
   "source": [
    "# Interactive Dashboard\n",
    "\n",
    "Explore accident patterns across time, weather, and location using the Tableau dashboard for interactive visualizations and filters:\n",
    "[Tableau Dashboard Link](https://public.tableau.com/views/USTrafficAccidentPatternsDashboard/USTrafficAccidentPatternsDashboard?:language=en-US&publish=yes&:sid=&:redirect=auth&:display_count=n&:origin=viz_share_link)\n"
   ]
  }
 ],
 "metadata": {
  "language_info": {
   "name": "python"
  }
 },
 "nbformat": 4,
 "nbformat_minor": 2
}
